{
 "cells": [
  {
   "cell_type": "markdown",
   "metadata": {},
   "source": [
    "# El lenguage de Programación `Python`"
   ]
  },
  {
   "cell_type": "markdown",
   "metadata": {},
   "source": [
    "## ¡Hola Mundo!\n",
    "\n",
    "Como es costumbre al aprender o enseñar un lenguaje de programación, hagamos que la computadora nos muestre el mensaje \"¡Hola Mundo!\" utilizando `Python`:"
   ]
  },
  {
   "cell_type": "code",
   "execution_count": 1,
   "metadata": {},
   "outputs": [
    {
     "name": "stdout",
     "output_type": "stream",
     "text": [
      "¡Hola Mundo!\n"
     ]
    }
   ],
   "source": [
    "print('¡Hola Mundo!')"
   ]
  },
  {
   "cell_type": "markdown",
   "metadata": {},
   "source": [
    "Sencillo, ¿no? Recordarás que `Python` es un lenguaje dinámico e interpretado, lo cual quiere decir que no necesitamos declarar tipos y clases de variables de antemano para poder utilizarlo, y que tampoco necesitamos *compilar* el código antes de ver su resultado. Esto, sin embargo, no quiere decir que no existan tipos de objetos, simplemente nos ahorra un paso (a veces a expensas de eficiencia computacional). Por lo tanto, es necesario que hablemos de los tipos de objetos que existen en `Python`, pero antes de eso, hablemos de los **comentarios**. \n",
    "\n",
    "Entenderemos como comentario cualquier cosa dentro del código que NO queremos que la computadora interprete ni evalúe, y su función es **documentar** qué es lo que hacemos en cada paso para facilitar la lectura del código, tanto nuestra como de los demás. Escribir un comentario es sumamente sencillo, simplemente utilizaremos el operador de numeral (`#`):"
   ]
  },
  {
   "cell_type": "code",
   "execution_count": 2,
   "metadata": {},
   "outputs": [],
   "source": [
    "# print('¡Hola Mundo!')"
   ]
  },
  {
   "cell_type": "markdown",
   "metadata": {},
   "source": [
    "Notarás que ejecutar la celda no dio ninguna salida, esto es porque `Python` no reconoció ninguna línea de código a evaluar. Como te imaginarás, los comentarios son **ESENCIALES** y prácticamente obligatorios en cualquier código que escribamos. Habiendo dicho eso, vayamos a los tipos de objetos."
   ]
  },
  {
   "cell_type": "markdown",
   "metadata": {},
   "source": [
    "## Tipos de objetos\n",
    "Recordarás también que `Python` es un lenguaje de programación orientado a objetos. Esto quiere decir que *todo* dentro de `Python` es un objeto. ¿Qué es un objeto? Una manera sencilla de entenderlos es como contenedores o cajitas en los cuales vamos a almacenar pasos para obtener un resultado, los resultados en sí mismos, valores e, incluso, podemos almacenar objetos dentro de objetos.\n",
    "\n",
    "<img src=\"https://github.com/ArturoBell/py_biol/blob/assets/slides/c01_objetos.png?raw=true\" style=\"width:1000px\">\n",
    "\n",
    "Como te imaginarás, los **tipos** de objetos varían dependiendo de qué es lo que almacenan, cómo lo almacenan y de ello depende también cómo accederemos a la información que contienen. Saber el tipo de un objeto es sumamente sencillo, únicamente tienes que utilizar la función `type(objeto)` y `Python` te dirá cómo lo reconoce."
   ]
  },
  {
   "cell_type": "markdown",
   "metadata": {},
   "source": [
    "### Cadenas de caracter: `str`\n",
    "\n",
    "El primer tipo de objeto son las cadenas de caracter; es decir, texto, formalmente conocidos en `Python` como `string`s (tipo `str`). Su característica es que están delimitados por `''` o `\"\"`. Aunque PEP (la guía de estilo de `Python`) no indica una preferencia al respecto, una costumbre es utilizar `''` para nombres de variables, literales, o cualquier tipo de texto que sea corto, mientras que las `\"\"` se utlizan para fragmentos grandes de texto (oraciones, párrafos, etc.)."
   ]
  },
  {
   "cell_type": "code",
   "execution_count": 3,
   "metadata": {},
   "outputs": [
    {
     "data": {
      "text/plain": [
       "str"
      ]
     },
     "execution_count": 3,
     "metadata": {},
     "output_type": "execute_result"
    }
   ],
   "source": [
    "type(\"Esto es un string\")"
   ]
  },
  {
   "cell_type": "code",
   "execution_count": 4,
   "metadata": {},
   "outputs": [
    {
     "data": {
      "text/plain": [
       "str"
      ]
     },
     "execution_count": 4,
     "metadata": {},
     "output_type": "execute_result"
    }
   ],
   "source": [
    "type('Esto también es un string')"
   ]
  },
  {
   "cell_type": "markdown",
   "metadata": {},
   "source": [
    "Algo muy particular de `Python` con respecto al manejo de `strings` es que podemos concatenarlos (pegarlos) simplemente utilizando el operador de adición `+` (pero no podemos sustraer un fragmento utilizando `-`):"
   ]
  },
  {
   "cell_type": "code",
   "execution_count": 5,
   "metadata": {},
   "outputs": [
    {
     "data": {
      "text/plain": [
       "'AB'"
      ]
     },
     "execution_count": 5,
     "metadata": {},
     "output_type": "execute_result"
    }
   ],
   "source": [
    "'A' + 'B'"
   ]
  },
  {
   "cell_type": "markdown",
   "metadata": {},
   "source": [
    "### Númericos: `integer` y `float`\n",
    "\n",
    "Si las letras o texto tienen su tipo de objeto, es esperable que los números también. Tan es así que hay dos tipos asignados a números: `int` (*integer*), que hace referencia a **números enteros** y `float` que hace referencia a **puntos flotantes**; es decir, fracciones. "
   ]
  },
  {
   "cell_type": "code",
   "execution_count": 6,
   "metadata": {},
   "outputs": [
    {
     "data": {
      "text/plain": [
       "int"
      ]
     },
     "execution_count": 6,
     "metadata": {},
     "output_type": "execute_result"
    }
   ],
   "source": [
    "type(1)"
   ]
  },
  {
   "cell_type": "code",
   "execution_count": 7,
   "metadata": {},
   "outputs": [
    {
     "data": {
      "text/plain": [
       "float"
      ]
     },
     "execution_count": 7,
     "metadata": {},
     "output_type": "execute_result"
    }
   ],
   "source": [
    "type(32.64)"
   ]
  },
  {
   "cell_type": "markdown",
   "metadata": {},
   "source": [
    "Además, podemos declarar que un número es `float`, aunque no tenga un decimal, simplemente agregando un punto a la derecha:"
   ]
  },
  {
   "cell_type": "code",
   "execution_count": 8,
   "metadata": {},
   "outputs": [
    {
     "data": {
      "text/plain": [
       "float"
      ]
     },
     "execution_count": 8,
     "metadata": {},
     "output_type": "execute_result"
    }
   ],
   "source": [
    "type(3.)"
   ]
  },
  {
   "cell_type": "markdown",
   "metadata": {},
   "source": [
    "Las operaciones aritméticas se pueden realizar directamente, solo teniendo en cuenta que el operador de potencia es `**` en vez de `^`:"
   ]
  },
  {
   "cell_type": "code",
   "execution_count": 60,
   "metadata": {},
   "outputs": [
    {
     "name": "stdout",
     "output_type": "stream",
     "text": [
      "5\n",
      "1\n",
      "6\n",
      "1.5\n",
      "9\n"
     ]
    }
   ],
   "source": [
    "print(3+2)\n",
    "print(3-2)\n",
    "print(3*2)\n",
    "print(3/2)\n",
    "print(3**2)"
   ]
  },
  {
   "cell_type": "markdown",
   "metadata": {},
   "source": [
    "## Booleanos: `bool`\n",
    "\n",
    "Todo lenguaje de programación parte del código binario; es decir, 0s y 1s. Afortunadamente para nosotros, no es necesario escribir todo en 0s y 1s, pero eso no implica que no haya casos en los cuales debamos de especificar el estado de un objeto, ya sea para decir que sí queremos que se realice un proceso, o para realizar comparaciones lógicas (¿es 5 mayor que 4?). En estos escenarios podemos valernos de valores Booleanos; es decir, verdadero o falso o, en `Python`: `True` y `False`."
   ]
  },
  {
   "cell_type": "code",
   "execution_count": 9,
   "metadata": {},
   "outputs": [
    {
     "data": {
      "text/plain": [
       "bool"
      ]
     },
     "execution_count": 9,
     "metadata": {},
     "output_type": "execute_result"
    }
   ],
   "source": [
    "type(True)"
   ]
  },
  {
   "cell_type": "markdown",
   "metadata": {},
   "source": [
    "<div class = \"alert alert-block alert-warning\">\n",
    "    <p>OJO: Si estás familiarizado con <code>R</code>, recordarás que puedes establecer <code>TRUE</code> y <code>FALSE</code> con <code>T</code> o <code>F</code>. En <code>Python</code> no existen tales abreviaturas.</p></div>"
   ]
  },
  {
   "cell_type": "markdown",
   "metadata": {},
   "source": [
    "### Comparaciones lógicas\n",
    "\n",
    "Acabamos de hablar de comparaciones lógicas; es decir, comparaciones donde obtendremos un resultado `True` o `False`. Al igual que en el resto de lenguajes de programación podemos utilizar los operadores lógicos básicos:\n",
    "\n",
    "- `A|B`: A o B; es decir, se cumple **al menos una** de las dos condiciones\n",
    "- `A&B`: A y B; es decir, se cumplen **ambas** condiciones.\n",
    "- `>,<`:  Mayor que, menor que\n",
    "- `==`: Exactamente igual a\n",
    "- `!=`: No es igual a\n",
    "- `>=`: Mayor que O igual a\n",
    "- `<=`: Menor que O igual a\n",
    "\n",
    "Realicemos algunas comparaciones. Primero extraigamos el tipo del número 5 (`int`) y veamos si es `str` (cadena de caracteres). En este ejemplo también podemos ilustrar el operador `is`. `Python` es un lenguaje que brilla por su intuición, por lo que podemos escribir la comparación prácticamente con lenguaje natural:"
   ]
  },
  {
   "cell_type": "code",
   "execution_count": 10,
   "metadata": {},
   "outputs": [
    {
     "data": {
      "text/plain": [
       "False"
      ]
     },
     "execution_count": 10,
     "metadata": {},
     "output_type": "execute_result"
    }
   ],
   "source": [
    "type(5) is str"
   ]
  },
  {
   "cell_type": "markdown",
   "metadata": {},
   "source": [
    "Que da el mismo resultado que:"
   ]
  },
  {
   "cell_type": "code",
   "execution_count": 11,
   "metadata": {},
   "outputs": [
    {
     "data": {
      "text/plain": [
       "False"
      ]
     },
     "execution_count": 11,
     "metadata": {},
     "output_type": "execute_result"
    }
   ],
   "source": [
    "type(5) == str"
   ]
  },
  {
   "cell_type": "markdown",
   "metadata": {},
   "source": [
    "¿Y en la desigualdad?"
   ]
  },
  {
   "cell_type": "code",
   "execution_count": 12,
   "metadata": {},
   "outputs": [
    {
     "data": {
      "text/plain": [
       "True"
      ]
     },
     "execution_count": 12,
     "metadata": {},
     "output_type": "execute_result"
    }
   ],
   "source": [
    "type(5) is not str"
   ]
  },
  {
   "cell_type": "code",
   "execution_count": 13,
   "metadata": {},
   "outputs": [
    {
     "data": {
      "text/plain": [
       "True"
      ]
     },
     "execution_count": 13,
     "metadata": {},
     "output_type": "execute_result"
    }
   ],
   "source": [
    "type(5) != str"
   ]
  },
  {
   "cell_type": "markdown",
   "metadata": {},
   "source": [
    "<div class = \"alert alert-block alert-danger\">\n",
    "    <p>MUCHO CUIDADO: No porque en este caso los resultados sean iguales quiere decir que siempre podamos utilizar <code>is</code> o <code>is not</code></p></div>"
   ]
  },
  {
   "cell_type": "markdown",
   "metadata": {},
   "source": [
    "Veamos primero un caso donde no sea así. Comparemos dos listas (más adelante las definiremos) con los mismos elementos en ellas:"
   ]
  },
  {
   "cell_type": "code",
   "execution_count": 14,
   "metadata": {},
   "outputs": [],
   "source": [
    "a = [1, 2, 3]\n",
    "b = [1, 2, 3]"
   ]
  },
  {
   "cell_type": "markdown",
   "metadata": {},
   "source": [
    "Con `is`:"
   ]
  },
  {
   "cell_type": "code",
   "execution_count": 15,
   "metadata": {},
   "outputs": [
    {
     "data": {
      "text/plain": [
       "False"
      ]
     },
     "execution_count": 15,
     "metadata": {},
     "output_type": "execute_result"
    }
   ],
   "source": [
    "a is b"
   ]
  },
  {
   "cell_type": "markdown",
   "metadata": {},
   "source": [
    "Con `==`:"
   ]
  },
  {
   "cell_type": "code",
   "execution_count": 16,
   "metadata": {},
   "outputs": [
    {
     "data": {
      "text/plain": [
       "True"
      ]
     },
     "execution_count": 16,
     "metadata": {},
     "output_type": "execute_result"
    }
   ],
   "source": [
    "a == b"
   ]
  },
  {
   "cell_type": "markdown",
   "metadata": {},
   "source": [
    "¿Por qué uno da `False` y el otro `True`? Esto tiene que ver con el manejo de memoria de `Python` y a qué nivel se hace la comparación. Mientras que `==` y `!=` comparan el **contenido**, `is` e `is not` comparan la **referencia** a la que hace cada objeto. Para simplificar las cosas, dejemos el uso de `is` e `is not` para comparaciones de tipos y comparaciones booleanas, y los operadores `==` y `!=` para el resto de casos.\n",
    "\n",
    "El resto de comparaciones son autoexplicativas, así que las obviaremos para no hacer el cuento muy largo."
   ]
  },
  {
   "cell_type": "markdown",
   "metadata": {},
   "source": [
    "## Objetos con múltiples elementos: Estructuras"
   ]
  },
  {
   "cell_type": "markdown",
   "metadata": {},
   "source": [
    "### Listas (`list`) y `tuple`s:\n",
    "\n",
    "Hasta el momento hemos revisado objetos que almacenan solo un dato; es decir, un solo valor, pero podemos almacenar colecciones de datos en diferentes **estructuras**. La más sencilla es la lista, la cual formaremos con la función `list()` o con los operadores `[]`:"
   ]
  },
  {
   "cell_type": "code",
   "execution_count": 17,
   "metadata": {},
   "outputs": [
    {
     "data": {
      "text/plain": [
       "list"
      ]
     },
     "execution_count": 17,
     "metadata": {},
     "output_type": "execute_result"
    }
   ],
   "source": [
    "type([1, 2, 3])"
   ]
  },
  {
   "cell_type": "code",
   "execution_count": 18,
   "metadata": {},
   "outputs": [
    {
     "data": {
      "text/plain": [
       "[1, 2, 3]"
      ]
     },
     "execution_count": 18,
     "metadata": {},
     "output_type": "execute_result"
    }
   ],
   "source": [
    "list((1, 2, 3))"
   ]
  },
  {
   "cell_type": "markdown",
   "metadata": {},
   "source": [
    "Notarás que a la función list le pasamos los elementos dentro de dos paréntesis. Esto sirve el propósito de poner los elementos en un solo objeto, el cual forma el *argumento* de la función (ensegida hablaremos de funciones y sus elementos), pero también es un `tuple`."
   ]
  },
  {
   "cell_type": "markdown",
   "metadata": {},
   "source": [
    "#### Métodos de indización"
   ]
  },
  {
   "cell_type": "markdown",
   "metadata": {},
   "source": [
    "Más adelante hablaremos de sus diferencias, pero primero hablemos de los **métodos de indización** o **indexación**; es decir, de cómo acceder a los elementos de una estructura. Generemos dos objetos, una lista y un `tuple`:"
   ]
  },
  {
   "cell_type": "code",
   "execution_count": 19,
   "metadata": {},
   "outputs": [],
   "source": [
    "a = [1, 2, 3, 5]\n",
    "b = (6, 7, 8, 9)"
   ]
  },
  {
   "cell_type": "markdown",
   "metadata": {},
   "source": [
    "Extraigamos el primer elemento de la lista, para lo cual utilizaremos el operador `[]` (sí, el mismo que utilizamos para declarar la lista. La lógica nos dice que utilizaríamos el número 1 para encontrarlo, veamos si es así:"
   ]
  },
  {
   "cell_type": "code",
   "execution_count": 20,
   "metadata": {},
   "outputs": [
    {
     "data": {
      "text/plain": [
       "2"
      ]
     },
     "execution_count": 20,
     "metadata": {},
     "output_type": "execute_result"
    }
   ],
   "source": [
    "a[1]"
   ]
  },
  {
   "cell_type": "markdown",
   "metadata": {},
   "source": [
    "¿Es un error? No, es una peculiaridad de `Python` en la que el primer elemento ocupa el índice `0`; es decir, que los índices van a ser siempre la posición que querramos `-1`. Para el primer elemento:"
   ]
  },
  {
   "cell_type": "code",
   "execution_count": 21,
   "metadata": {},
   "outputs": [
    {
     "data": {
      "text/plain": [
       "1"
      ]
     },
     "execution_count": 21,
     "metadata": {},
     "output_type": "execute_result"
    }
   ],
   "source": [
    "a[0]"
   ]
  },
  {
   "cell_type": "markdown",
   "metadata": {},
   "source": [
    "Para el último (cuarto) elemento:"
   ]
  },
  {
   "cell_type": "code",
   "execution_count": 22,
   "metadata": {},
   "outputs": [
    {
     "data": {
      "text/plain": [
       "5"
      ]
     },
     "execution_count": 22,
     "metadata": {},
     "output_type": "execute_result"
    }
   ],
   "source": [
    "a[3]"
   ]
  },
  {
   "cell_type": "markdown",
   "metadata": {},
   "source": [
    "Y esto es igual para los `tuples`:"
   ]
  },
  {
   "cell_type": "code",
   "execution_count": 23,
   "metadata": {},
   "outputs": [
    {
     "data": {
      "text/plain": [
       "7"
      ]
     },
     "execution_count": 23,
     "metadata": {},
     "output_type": "execute_result"
    }
   ],
   "source": [
    "b[1]"
   ]
  },
  {
   "cell_type": "code",
   "execution_count": 24,
   "metadata": {},
   "outputs": [
    {
     "data": {
      "text/plain": [
       "9"
      ]
     },
     "execution_count": 24,
     "metadata": {},
     "output_type": "execute_result"
    }
   ],
   "source": [
    "b[3]"
   ]
  },
  {
   "cell_type": "markdown",
   "metadata": {},
   "source": [
    "Otra forma en la que podemos acceder a los elementos es en sentido contrario; es decir, del último hacia el primero. Para esto agregaremos el operador `-` al índice. De manera \"contraintuitiva\", el último elemento tiene el índice `-1`. Digo \"contraintuitiva\" porque `-0` no tiene ningún sentido, aunque lo cierto es que es una falta de homogeneidad, pero eso es otra historia."
   ]
  },
  {
   "cell_type": "code",
   "execution_count": 25,
   "metadata": {},
   "outputs": [
    {
     "data": {
      "text/plain": [
       "5"
      ]
     },
     "execution_count": 25,
     "metadata": {},
     "output_type": "execute_result"
    }
   ],
   "source": [
    "a[-1]"
   ]
  },
  {
   "cell_type": "markdown",
   "metadata": {},
   "source": [
    "El penúltimo elemento:"
   ]
  },
  {
   "cell_type": "code",
   "execution_count": 26,
   "metadata": {},
   "outputs": [
    {
     "data": {
      "text/plain": [
       "3"
      ]
     },
     "execution_count": 26,
     "metadata": {},
     "output_type": "execute_result"
    }
   ],
   "source": [
    "a[-2]"
   ]
  },
  {
   "cell_type": "markdown",
   "metadata": {},
   "source": [
    "#### `tuple` vs listas\n",
    "\n",
    "Si las listas y los tuple son virtualmente idénticas, salvo por los operadores con las que las construimos, ¿por qué tienen tipos diferenes? Las listas son **mutables**; es decir podemos cambiar los elementos que las conforman, mientras que los `tuple`s no. Para cambiar un elemento de una lista primero indizaremos el elemento y le asignaremos el nuevo valor:"
   ]
  },
  {
   "cell_type": "code",
   "execution_count": 27,
   "metadata": {},
   "outputs": [
    {
     "data": {
      "text/plain": [
       "[1, 2, 3, 6]"
      ]
     },
     "execution_count": 27,
     "metadata": {},
     "output_type": "execute_result"
    }
   ],
   "source": [
    "a[-1] = 6\n",
    "a"
   ]
  },
  {
   "cell_type": "markdown",
   "metadata": {},
   "source": [
    "Si intentas realizar esta operación con `b` obtendrás un error (`TypeError: 'tuple' object does not support item assignment`) "
   ]
  },
  {
   "cell_type": "code",
   "execution_count": 61,
   "metadata": {},
   "outputs": [],
   "source": [
    "#b[-1] = 6"
   ]
  },
  {
   "cell_type": "markdown",
   "metadata": {},
   "source": [
    "### Estructuras bidimensionales\n",
    "\n",
    "¿Qué pasa si necesitamos dos dimensiones; es decir, algo como renglones y columnas? Podemos utilizar algo como lo siguiente:"
   ]
  },
  {
   "cell_type": "code",
   "execution_count": 29,
   "metadata": {},
   "outputs": [
    {
     "data": {
      "text/plain": [
       "[[0, 0, 0, 0, 0],\n",
       " [0, 0, 0, 0, 0],\n",
       " [0, 0, 0, 0, 0],\n",
       " [0, 0, 0, 0, 0],\n",
       " [0, 0, 0, 0, 0]]"
      ]
     },
     "execution_count": 29,
     "metadata": {},
     "output_type": "execute_result"
    }
   ],
   "source": [
    "rows = 5\n",
    "cols = 5\n",
    "arr = [[0]*cols]*rows\n",
    "arr"
   ]
  },
  {
   "cell_type": "markdown",
   "metadata": {},
   "source": [
    "Notarás que esto es muy poco intuitivo, a la par de impráctico. Por lo general, para este tipo de tareas nos valdremos de dos módulos muy famosos: `numpy` y `pandas`. En las siguientes sesiones exploraremos ambas con bastante detalle, pero por lo pronto utilicémoslas para generar objetos bidimensionales:"
   ]
  },
  {
   "cell_type": "markdown",
   "metadata": {},
   "source": [
    "## Módulos e importación\n",
    "\n",
    "Te estarás preguntando, ¿qué es un módulo? Pues bien, un módulo es un conjunto de funciones, clases, métodos y objetos que NO forman parte de `Python` base. ¿En Español? Son \"extensiones\" que añaden nuevas funcionalidades al lenguaje. Como podrás imaginarte, existe una gran cantidad de módulos. ¿Quieres entrenar redes neuronales profundas? Tienes [pyTorch](https://pytorch.org/), [TensorFlow](https://www.tensorflow.org) y [Keras](https://keras.io/), por ejemplo. ¿Quieres entrar a la Inferencia Bayesiana? Tienes [STAN](https://mc-stan.org/), [Edward](http://edwardlib.org/) y [PyMC](https://www.pymc.io/). ¿Quieres un módulo para aprendizaje automatizado en general? Tienes el famosísimo [Scikit-Learn](https://scikit-learn.org/stable/index.html#). ¿Quieres adentrarte a la visión por computadora? Puedes probar con [OpenCV](https://opencv.org/). En fin, la lista de módulos (y aplicaciones) es interminable. \n",
    "\n",
    "Independientemente de qué quieras hacer, el primer paso para utilizar cualquier función que no está incluida en `Python` base es necesario cargar el módulo correspondiente en la memoria. OJO, una cosa es instalar el módulo (descargar el conjunto de funciones que lo conforman) y otra cosa es poner el módulo a nuestra disposición. La forma más sencilla es cargar el módulo completo utilizando la palabra clave `import`, el nombre de la librería, y podemos, opcionalmente, definir una abreviatura. Más adelante veremos que también podemos importar solo algunas funciones, métodos o clases, pero por el momento nos quedaremos con la notación `import nombre_módulo as abreviatura`, lo cual hace justo lo que dice, importa el módulo y le asigna la abreviatura que dimos."
   ]
  },
  {
   "cell_type": "code",
   "execution_count": 30,
   "metadata": {},
   "outputs": [],
   "source": [
    "import numpy as np\n",
    "import pandas as pd"
   ]
  },
  {
   "cell_type": "markdown",
   "metadata": {},
   "source": [
    "<div class = \"alert alert-block alert-warning\">\n",
    "    <p>La instalación de módulos se realiza mediante <code>pip</code> (el instalador incluido en tu instalación de <code>Python</code>) o <code>conda</code> (si es que estás trabajando con Anaconda), ejecutando el comando en tu Terminal (macOS/Linux) o consola del sistema (Windows). Por ejemplo, <code>pip install pandas</code> y <code>conda install -c conda-forge pandas</code> descargarán e instalarán el módulo <code>pandas</code>. Puedes hacerlo directamente en tu libreta Jupyter con el comando <code>!pip install pandas</code> (o su equivalente en conda)\n",
    "    </p></div>"
   ]
  },
  {
   "cell_type": "markdown",
   "metadata": {},
   "source": [
    "<div class = \"alert alert-block alert-info\">\n",
    "    <p>No es necesario que re-instales los módulos cada vez que las utilices, pues puede que estos se actualicen y que tu código necesite también actualizarse para funcionar correctamente. ¿Cuándo actualizar un módulo? Para saberlo hay que estar al pendiente de los desarrolladores y ver qué pasa en cada nueva versión. ¿No hubo un cambio que fuera de tu interés? No es necesario que actualices. ¿Hubo un cambio importante? Entonces puedes considerar actualizar. Normalmente los desarrolladores siguen una notación tipo: M.m.p, donde M es una versión mayor (puede tener incompatibilidad con código antiguo), m es una versión menor (se introduce una característica pequeña) y p es un \"parche\" (corrección de errores).</p></div>"
   ]
  },
  {
   "cell_type": "markdown",
   "metadata": {},
   "source": [
    "En las líneas anteriores primero importamos el módulo `numpy` y le decimos a `Python` que accederemos a sus funciones utilizando la abreviatura `np`. Después hacemos lo mismo con `pandas` y la abreviatura `pd`. ¿Ahora cómo utilizamos las funciones? Nos tenemos que valer del operador `.`. Es más fácil verlo con un ejemplo. El módulo `numpy` incluye un valor de $\\pi$, almacenado en el objeto `pi`. Si intentamos llamarlo directamente obtendremos un error, pues no definimos ningún objeto con ese nombre, ni hay alguno en `Python` base, por lo que indicaremos primero el módulo, seguido de `.` y después el nombre del objeto:"
   ]
  },
  {
   "cell_type": "code",
   "execution_count": 31,
   "metadata": {},
   "outputs": [
    {
     "data": {
      "text/plain": [
       "3.141592653589793"
      ]
     },
     "execution_count": 31,
     "metadata": {},
     "output_type": "execute_result"
    }
   ],
   "source": [
    "np.pi"
   ]
  },
  {
   "cell_type": "markdown",
   "metadata": {},
   "source": [
    "Esta estructura garantiza que siempre estemos utilizando la función o el objeto que querramos. Puede darse el caso en que dos módulos tengan dos funciones con el mismo nombre, pero diferente comportamiento, pero el declarar activamente de dónde queremos que saque la función o el objeto evita que obtengamos resultados inesperados."
   ]
  },
  {
   "cell_type": "markdown",
   "metadata": {},
   "source": [
    "## Estructuras bidimensionales"
   ]
  },
  {
   "cell_type": "markdown",
   "metadata": {},
   "source": [
    "### Matriz: `np.matrix()`"
   ]
  },
  {
   "cell_type": "code",
   "execution_count": 32,
   "metadata": {},
   "outputs": [
    {
     "data": {
      "text/plain": [
       "matrix([[1, 2, 3, 6],\n",
       "        [6, 7, 8, 9]])"
      ]
     },
     "execution_count": 32,
     "metadata": {},
     "output_type": "execute_result"
    }
   ],
   "source": [
    "c = np.matrix(str(a)+';'+str(list(b)))\n",
    "c"
   ]
  },
  {
   "cell_type": "markdown",
   "metadata": {},
   "source": [
    "El proceso fue primero transformar `a` a una cadena de caractéres, concatenarle el operador `;` para indicar otro renglón y concatenarle `b`(transformado a una lista y luego a `str`). Ahora construyamos un arreglo similar con `pandas`. Aquí utilizaremos un `DataFrame`, utilizando la función `pd.DataFrame(data)`, donde `data` puede ser una lista de listas, tuples, un **diccionario** o una lista de **pd.Series**."
   ]
  },
  {
   "cell_type": "markdown",
   "metadata": {},
   "source": [
    "### `DataFrame`: `pd.DataFrame()`"
   ]
  },
  {
   "cell_type": "code",
   "execution_count": 33,
   "metadata": {},
   "outputs": [
    {
     "data": {
      "text/html": [
       "<div>\n",
       "<style scoped>\n",
       "    .dataframe tbody tr th:only-of-type {\n",
       "        vertical-align: middle;\n",
       "    }\n",
       "\n",
       "    .dataframe tbody tr th {\n",
       "        vertical-align: top;\n",
       "    }\n",
       "\n",
       "    .dataframe thead th {\n",
       "        text-align: right;\n",
       "    }\n",
       "</style>\n",
       "<table border=\"1\" class=\"dataframe\">\n",
       "  <thead>\n",
       "    <tr style=\"text-align: right;\">\n",
       "      <th></th>\n",
       "      <th>0</th>\n",
       "      <th>1</th>\n",
       "      <th>2</th>\n",
       "      <th>3</th>\n",
       "    </tr>\n",
       "  </thead>\n",
       "  <tbody>\n",
       "    <tr>\n",
       "      <th>0</th>\n",
       "      <td>1</td>\n",
       "      <td>2</td>\n",
       "      <td>3</td>\n",
       "      <td>6</td>\n",
       "    </tr>\n",
       "    <tr>\n",
       "      <th>1</th>\n",
       "      <td>6</td>\n",
       "      <td>7</td>\n",
       "      <td>8</td>\n",
       "      <td>9</td>\n",
       "    </tr>\n",
       "  </tbody>\n",
       "</table>\n",
       "</div>"
      ],
      "text/plain": [
       "   0  1  2  3\n",
       "0  1  2  3  6\n",
       "1  6  7  8  9"
      ]
     },
     "execution_count": 33,
     "metadata": {},
     "output_type": "execute_result"
    }
   ],
   "source": [
    "d = pd.DataFrame([a,b])\n",
    "d"
   ]
  },
  {
   "cell_type": "markdown",
   "metadata": {},
   "source": [
    "### Diccionario\n",
    "\n",
    "Antes mencioné los diccionarios y las `pd.Series`. Estas últimas las veremos en la sesión dedicada a `pandas`, así como en la sesión dedicada a `numpy` veremos más estructuras (incluyendo de más de dos dimensiones), pero los diccionarios son la última estructura de `Python` base. Como podrás imaginarte, los diccionarios permiten tener pares de claves y valores, y no permiten duplicados. Su creación requiere de la notación `{clave:valor}`. Pongamos un ejemplo con un vehículo particular:"
   ]
  },
  {
   "cell_type": "code",
   "execution_count": 34,
   "metadata": {},
   "outputs": [
    {
     "data": {
      "text/plain": [
       "{'marca': 'Mazda', 'modelo': '3', 'año': '2021'}"
      ]
     },
     "execution_count": 34,
     "metadata": {},
     "output_type": "execute_result"
    }
   ],
   "source": [
    "vehiculo = {'marca': 'Mazda',\n",
    "            'modelo': '3',\n",
    "            'año': '2021'}\n",
    "\n",
    "vehiculo"
   ]
  },
  {
   "cell_type": "markdown",
   "metadata": {},
   "source": [
    "### Indización"
   ]
  },
  {
   "cell_type": "markdown",
   "metadata": {},
   "source": [
    "Ahora, ¿cómo accedemos a cada uno de estos elementos? Con el operador `[i,j]`, donde `i` indica el renglón y `j` la columna. En nuestra matriz la indización se realiza de manera directa:"
   ]
  },
  {
   "cell_type": "code",
   "execution_count": 35,
   "metadata": {},
   "outputs": [
    {
     "data": {
      "text/plain": [
       "7"
      ]
     },
     "execution_count": 35,
     "metadata": {},
     "output_type": "execute_result"
    }
   ],
   "source": [
    "c[1,1]"
   ]
  },
  {
   "cell_type": "markdown",
   "metadata": {},
   "source": [
    "En nuestro `DataFrame` debemos de utilizar el **método** `.iloc[i,j]`:"
   ]
  },
  {
   "cell_type": "code",
   "execution_count": 36,
   "metadata": {},
   "outputs": [
    {
     "data": {
      "text/plain": [
       "7"
      ]
     },
     "execution_count": 36,
     "metadata": {},
     "output_type": "execute_result"
    }
   ],
   "source": [
    "d.iloc[1,1]"
   ]
  },
  {
   "cell_type": "markdown",
   "metadata": {},
   "source": [
    "En nuestro diccionario podemos obtener un valor si conocemos la clave, cual diccionario físico de toda la vida:"
   ]
  },
  {
   "cell_type": "code",
   "execution_count": 37,
   "metadata": {},
   "outputs": [
    {
     "data": {
      "text/plain": [
       "'Mazda'"
      ]
     },
     "execution_count": 37,
     "metadata": {},
     "output_type": "execute_result"
    }
   ],
   "source": [
    "vehiculo['marca']"
   ]
  },
  {
   "cell_type": "markdown",
   "metadata": {},
   "source": [
    "### Añadir elementos\n",
    "\n",
    "Si queremos añadir elementos a nuestros objetos podemos hacer uso de diferentes métodos."
   ]
  },
  {
   "cell_type": "markdown",
   "metadata": {},
   "source": [
    "#### Listas\n",
    "\n",
    "Para las listas tenemos tres métodos:\n",
    "\n",
    "- `list.append()`, el cual agrega un solo elemento a la lista (al final).\n",
    "- `list.extend()`, el cual agrega elementos de un *iterable* (lista, `tuple`, etc.) al final de la lista.\n",
    "- `list.insert()`, el cual agrega un solo elemento en una posición dada.\n",
    "\n",
    "Todos los métodos funcionan *in place*; es decir, no necesitamos re-asignar el objeto.\n",
    "\n",
    "Primero ejemplifiquemos `append`:"
   ]
  },
  {
   "cell_type": "code",
   "execution_count": 51,
   "metadata": {},
   "outputs": [
    {
     "data": {
      "text/plain": [
       "[1, 2, 3, 6, 20, 20]"
      ]
     },
     "execution_count": 51,
     "metadata": {},
     "output_type": "execute_result"
    }
   ],
   "source": [
    "a.append(20)\n",
    "a"
   ]
  },
  {
   "cell_type": "markdown",
   "metadata": {},
   "source": [
    "Luego `extend`:"
   ]
  },
  {
   "cell_type": "code",
   "execution_count": 52,
   "metadata": {},
   "outputs": [
    {
     "data": {
      "text/plain": [
       "[1, 2, 3, 6, 20, 20, 30, 40, 50]"
      ]
     },
     "execution_count": 52,
     "metadata": {},
     "output_type": "execute_result"
    }
   ],
   "source": [
    "a.extend((30, 40, 50))\n",
    "a"
   ]
  },
  {
   "cell_type": "markdown",
   "metadata": {},
   "source": [
    "Y por último `insert(index, element)`:"
   ]
  },
  {
   "cell_type": "code",
   "execution_count": 55,
   "metadata": {},
   "outputs": [
    {
     "data": {
      "text/plain": [
       "[1, 2, 3, 6, 15, 15, 20, 20, 30, 40, 50]"
      ]
     },
     "execution_count": 55,
     "metadata": {},
     "output_type": "execute_result"
    }
   ],
   "source": [
    "a.insert(4, 15)\n",
    "a"
   ]
  },
  {
   "cell_type": "markdown",
   "metadata": {},
   "source": [
    "#### Diccionarios\n",
    "\n",
    "Podemos modificar nuestros diccionarios (añadir nuevas entradas o modificar las existentes) de dos maneras:\n",
    "\n",
    "- `dict[clave] = valor`\n",
    "- `dict.update({clave:valor})`\n",
    "\n",
    "Primero, añadamos una nueva entrada:"
   ]
  },
  {
   "cell_type": "code",
   "execution_count": 57,
   "metadata": {},
   "outputs": [
    {
     "data": {
      "text/plain": [
       "{'marca': 'Mazda', 'modelo': '3', 'año': '2021', 'motor': '3.5L'}"
      ]
     },
     "execution_count": 57,
     "metadata": {},
     "output_type": "execute_result"
    }
   ],
   "source": [
    "vehiculo['motor'] = '3.5L'\n",
    "vehiculo"
   ]
  },
  {
   "cell_type": "markdown",
   "metadata": {},
   "source": [
    "Ahora modifiquémosla para corregir el desplazamiento del motor:"
   ]
  },
  {
   "cell_type": "code",
   "execution_count": 59,
   "metadata": {},
   "outputs": [
    {
     "data": {
      "text/plain": [
       "{'marca': 'Mazda', 'modelo': '3', 'año': '2021', 'motor': '2.5L'}"
      ]
     },
     "execution_count": 59,
     "metadata": {},
     "output_type": "execute_result"
    }
   ],
   "source": [
    "vehiculo.update({'motor':'2.5L'})\n",
    "vehiculo"
   ]
  },
  {
   "cell_type": "markdown",
   "metadata": {},
   "source": [
    "#### Otros objetos"
   ]
  },
  {
   "cell_type": "markdown",
   "metadata": {},
   "source": [
    "El resto de objetos los iremos viendo sobre la marcha, aunque, como te imaginarás, en el escenario más simple se asignan nuevos valores utilizando el método de indización correspondiente; sin embargo, existen métodos particulares para `DataFrames` o arreglos bi- o multi-dimensionales, por ejemplo."
   ]
  },
  {
   "cell_type": "markdown",
   "metadata": {},
   "source": [
    "## Ejercicio\n",
    "\n",
    "Resuelve el siguiente cuestionario:\n",
    "\n",
    "1. ¿Cuál es la diferencia entre un dato y una estructura?\n",
    "2. ¿Qué es una lista? ¿Cuál es su diferencia fundamental con un `tuple`?\n",
    "3. ¿Qué resulta de ejecutar el código `'Hola' + 5`?\n",
    "4. ¿Cuál es la salida y el tipo de la operación `5 < 3`?\n",
    "5. Accede al elemento 6 de la lista `['H', 'o', 'l', 'a', ' ', 'm', 'u', 'n', 'd', 'o']`. ¿Cuál es su tipo?\n",
    "6. Crea un diccionario con tus datos personales: Nombre, institución de procedencia, y un par tarea:NO.\n",
    "7. Actualiza el diccionario con tarea:SÍ."
   ]
  },
  {
   "cell_type": "markdown",
   "metadata": {},
   "source": [
    "## Cierre"
   ]
  },
  {
   "cell_type": "markdown",
   "metadata": {},
   "source": [
    "Esto es todo para esta sesión. En las siguientes veremos cómo iterar nuestro código (estructuras de control `for`, `if`, comprensiones), cómo declarar funciones propias y aprovechar el paradigma funcional de programación dentro de `Python` y una introducción a las principales librerías para el análisis de datos (`pandas`, `numpy`, `scipy`) y graficado (`matplotlib`, `seaborn`).\n",
    "\n",
    "¡Nos vemos en la siguiente!"
   ]
  },
  {
   "cell_type": "markdown",
   "metadata": {},
   "source": [
    "<div class = \"alert alert-block alert-success\">\n",
    "    <p>FIN DE LA SESIÓN</p></div>"
   ]
  }
 ],
 "metadata": {
  "kernelspec": {
   "display_name": "Python 3",
   "language": "python",
   "name": "python3"
  },
  "language_info": {
   "codemirror_mode": {
    "name": "ipython",
    "version": 3
   },
   "file_extension": ".py",
   "mimetype": "text/x-python",
   "name": "python",
   "nbconvert_exporter": "python",
   "pygments_lexer": "ipython3",
   "version": "3.8.6"
  },
  "toc-autonumbering": true
 },
 "nbformat": 4,
 "nbformat_minor": 4
}
