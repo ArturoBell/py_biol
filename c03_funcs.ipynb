{
 "cells": [
  {
   "cell_type": "markdown",
   "metadata": {},
   "source": [
    "# Programación funcional\n",
    "\n",
    "`Python` permite implementar el paradigma funcional de la programación; es decir, construir nuestros programas declarando y aplicando funciones o métodos. Este paradigma permite que sigamos la máxima que da sentido a la programación: **Don't Repeat Yourself**; es decir, no te repitas a ti mismo. Si vas a realizar la misma serie de pasos una y otra vez, es mejor declarar una función y llamarla en cada ocasión en vez de repetir todo el proceso una y otra vez. Veamos entonces qué son y cómo podemos valernos de ellas."
   ]
  },
  {
   "cell_type": "markdown",
   "metadata": {},
   "source": [
    "## Funciones\n",
    "Las funciones representan una serie de pasos ordenados para llegar a un resultado dado. Una función está formada por:\n",
    "\n",
    "- El **ambiente** `def`, el cuál declara que lo que esté después de esto forma un ambiente **aislado**, salvo por las entradas que definamos después.\n",
    "- El nombre de la función; es decir, cómo la vamos a invocar.\n",
    "- Los argumentos de la función (entradas), dentro de paréntesis. La manera más fácil de entenderlos es como perillas que regulan el comportamiento de la función. Estos argumentos pueden ser **cualquier tipo de objeto**, y su papel es ser **marcadores de posición** que serán substituidos en el **cuerpo de la función**. Podemos también establecer **valores por defecto**, si es que hay algún valor que se utilice cotidianamente.\n",
    "- El **cuerpo de la función**; es decir, el conjunto de operaciones que vamos a realizar, incluyendo los comentarios correspondientes.\n",
    "- La estructura de control `return()`, que indica qué será la salida de la función. Puede ser un solo número, una lista, un diccionario o cualquier otro objeto.\n",
    "\n",
    "Además de estas partes, podemos añadir un **preámbulo** donde expliquemos el funcionamiento de la función (dah). Esto lo haremos con tres apóstrofes (`'`) al inicio y al final del preámbulo. Este forma parte de la **documentación de la función** (`Docstring`) y es buena práctica o costumbre declararlo para a) explicar qué hace la función, b) cuáles son los argumentos que recibe y de qué tipos son, y c) cuál es la salida (y tipo) de la función. Este preámbulo es el que se muestra en la ayuda de la función (`fun?`).\n",
    "\n",
    "Veamos un ejemplo para calcular la media aritmética de una lista (o similar):"
   ]
  },
  {
   "cell_type": "code",
   "execution_count": 38,
   "metadata": {},
   "outputs": [],
   "source": [
    "def media_aritmetica(x, redondear = False, dec = 0):\n",
    "    '''\n",
    "    Función básica para calcular la media aritmética.\n",
    "    \n",
    "    Argumentos:\n",
    "        - x: lista o similar que contiene la serie de números a la que se le calculará la media aritmética.\n",
    "        - redondear: Booleano, indica si el valor de la media se redondeará o no.\n",
    "        - dec: Entero, indica el número de decimales a conservar en el redondeo. 0 por defecto.\n",
    "        \n",
    "    Salida:\n",
    "        - La media aritmética del conjunto de datos, redondeada o no.\n",
    "    '''\n",
    "    # Calculamos la suma de los valores en la lista\n",
    "    suma = sum(x)\n",
    "    # Obtenemos el número de elementos en la lista\n",
    "    n = len(x)\n",
    "    \n",
    "    # Calculamos la media\n",
    "    \n",
    "    # Si queremos redondear\n",
    "    if redondear is True:\n",
    "        # Redondeamos a el número de decimales en dec\n",
    "        media = round(suma/n, dec)\n",
    "    else:\n",
    "        # De lo contrario entregamos el valor crudo\n",
    "        media = suma/n\n",
    "    \n",
    "    # Regresamos el valor de la media\n",
    "    return(media)"
   ]
  },
  {
   "cell_type": "markdown",
   "metadata": {},
   "source": [
    "Para utilizar esta función vamos, entonces, a llamarla (`media_aritmetica()`) y a utilizar `x = a` como argumento:"
   ]
  },
  {
   "cell_type": "code",
   "execution_count": 39,
   "metadata": {},
   "outputs": [
    {
     "data": {
      "text/plain": [
       "3.0"
      ]
     },
     "execution_count": 39,
     "metadata": {},
     "output_type": "execute_result"
    }
   ],
   "source": [
    "media_aritmetica(x = a)"
   ]
  },
  {
   "cell_type": "markdown",
   "metadata": {},
   "source": [
    "El resultado es un número fraccionario porque el argumento `redondear` está por defecto como `False`, veamos qué pasa si lo ponemos como `True`:"
   ]
  },
  {
   "cell_type": "code",
   "execution_count": 40,
   "metadata": {},
   "outputs": [
    {
     "data": {
      "text/plain": [
       "3.0"
      ]
     },
     "execution_count": 40,
     "metadata": {},
     "output_type": "execute_result"
    }
   ],
   "source": [
    "media_aritmetica(x = a, redondear = True)"
   ]
  },
  {
   "cell_type": "markdown",
   "metadata": {},
   "source": [
    "El número está redondeado a 0 decimales, pues es el valor por defecto que tiene nuestra función. Ahora bien, es posible NO poner nombre a los argumentos, siempre que los pongamos en ORDEN:"
   ]
  },
  {
   "cell_type": "code",
   "execution_count": 41,
   "metadata": {},
   "outputs": [
    {
     "data": {
      "text/plain": [
       "3.0"
      ]
     },
     "execution_count": 41,
     "metadata": {},
     "output_type": "execute_result"
    }
   ],
   "source": [
    "media_aritmetica(a, True, 1)"
   ]
  },
  {
   "cell_type": "markdown",
   "metadata": {},
   "source": [
    "Pero esto no te lo recomiendo, pues complica la lectura del código. Si te llegas a encontrar código como este y no sabes a qué hace referencia, siempre puedes ver la ayuda de la función y, si esta tiene un preámbulo, ver en qué consiste cada argumento o, cuando menos, cuáles son los nombres:"
   ]
  },
  {
   "cell_type": "code",
   "execution_count": 42,
   "metadata": {},
   "outputs": [
    {
     "data": {
      "text/plain": [
       "\u001b[0;31mSignature:\u001b[0m \u001b[0mmedia_aritmetica\u001b[0m\u001b[0;34m(\u001b[0m\u001b[0mx\u001b[0m\u001b[0;34m,\u001b[0m \u001b[0mredondear\u001b[0m\u001b[0;34m=\u001b[0m\u001b[0;32mFalse\u001b[0m\u001b[0;34m,\u001b[0m \u001b[0mdec\u001b[0m\u001b[0;34m=\u001b[0m\u001b[0;36m0\u001b[0m\u001b[0;34m)\u001b[0m\u001b[0;34m\u001b[0m\u001b[0;34m\u001b[0m\u001b[0m\n",
       "\u001b[0;31mDocstring:\u001b[0m\n",
       "Función básica para calcular la media aritmética.\n",
       "\n",
       "Argumentos:\n",
       "    - x: lista o similar que contiene la serie de números a la que se le calculará la media aritmética.\n",
       "    - redondear: Booleano, indica si el valor de la media se redondeará o no.\n",
       "    - dec: Entero, indica el número de decimales a conservar en el redondeo. 0 por defecto.\n",
       "    \n",
       "Salida:\n",
       "    - La media aritmética del conjunto de datos, redondeada o no.\n",
       "\u001b[0;31mFile:\u001b[0m      ~/Library/Mobile Documents/com~apple~CloudDocs/Science/Cursos/python/<ipython-input-38-80f7f6ac9fde>\n",
       "\u001b[0;31mType:\u001b[0m      function\n"
      ]
     },
     "metadata": {},
     "output_type": "display_data"
    }
   ],
   "source": [
    "media_aritmetica?"
   ]
  },
  {
   "cell_type": "markdown",
   "metadata": {},
   "source": [
    "### Funciones anónimas: `lambda`\n",
    "\n",
    "`Python` permite hacer funciones fuera del entorno `def`, las cuales entonces no tienen un nombre y son, en consecuencia, funciones anónimas o funciones `lambda`. Para declararlas vamos a utilizar la función `lambda`. Nuestra función de la media se puede resumir a:"
   ]
  },
  {
   "cell_type": "code",
   "execution_count": 43,
   "metadata": {},
   "outputs": [
    {
     "data": {
      "text/plain": [
       "3.0"
      ]
     },
     "execution_count": 43,
     "metadata": {},
     "output_type": "execute_result"
    }
   ],
   "source": [
    "media = lambda x: sum(x)/len(x)\n",
    "media(a)"
   ]
  },
  {
   "cell_type": "markdown",
   "metadata": {},
   "source": [
    "Aunque esta aproximación es mucho más simple (declaramos la función en una sola línea de comando), esa simpleza también limita bastante el alcance de sus implementaciones; sin embargo, más adelante veremos cómo podemos utilizar estas funciones lambda de una forma iterativa que, en mi opinión, es una de las mejores herramientas de `Python`: las **comprensiones**."
   ]
  },
  {
   "cell_type": "markdown",
   "metadata": {},
   "source": [
    "## Métodos y clases\n",
    "\n",
    "Un complemento/alternativa a las funciones son los métodos. Estos son, al igual que una función, una serie de pasos que van a dar un resultado. La diferencia es que, mientras las funciones las podemos aplicar de manera independiente, los métodos están asociados a una **clase** u objeto.\n",
    "\n",
    "Las clases proveen medios de agrupar datos y funcionalidades. Al crear una nueva clase, creamos un nuevo tipo de objeto, permitiendo crear nuevas instancias de ese tipo. Estas clases pueden tener **atributos** para mantener su estado, pero también **métodos** que permitan modificar ese estado.\n",
    "\n",
    "Construyamos una clase con un atributo y una función asociada para ejemplificar esto. Para esto utilizaremos primero el ambiente `class` para definir la clase, y después el ambiente `def` para crear el método. Reutilicemos el código de nuestra función de la media para hacernos la vida más fácil:"
   ]
  },
  {
   "cell_type": "code",
   "execution_count": 44,
   "metadata": {},
   "outputs": [],
   "source": [
    "class Media:\n",
    "    # Creamos un atributo que se llama data, el cual contiene la lista de números a partir de la cual calcularemos la media\n",
    "    def __init__(self, x):\n",
    "        self.data = x\n",
    "    # Declaramos un método asociado a la clase, en el cual calcularemos la media aritmética\n",
    "    def media_arit(self, redondear = False, dec = 0):\n",
    "        '''\n",
    "        Función básica para calcular la media aritmética.\n",
    "\n",
    "        Argumentos:\n",
    "            - x: lista o similar que contiene la serie de números a la que se le calculará la media aritmética.\n",
    "            - redondear: Booleano, indica si el valor de la media se redondeará o no.\n",
    "            - dec: Entero, indica el número de decimales a conservar en el redondeo. 0 por defecto.\n",
    "\n",
    "        Salida:\n",
    "            - La media aritmética del conjunto de datos, redondeada o no.\n",
    "        '''\n",
    "        # Calculamos la suma de los valores en la lista\n",
    "        suma = sum(self.data)\n",
    "        # Obtenemos el número de elementos en la lista\n",
    "        n = len(self.data)\n",
    "\n",
    "        # Calculamos la media\n",
    "\n",
    "        # Si queremos redondear\n",
    "        if redondear is True:\n",
    "            # Redondeamos a el número de decimales en dec\n",
    "            media = round(suma/n, dec)\n",
    "        else:\n",
    "            # De lo contrario entregamos el valor crudo\n",
    "            media = suma/n\n",
    "\n",
    "        # Regresamos el valor de la media\n",
    "        return(media)"
   ]
  },
  {
   "cell_type": "markdown",
   "metadata": {},
   "source": [
    "Instanciemos un objeto con esta nueva clase:"
   ]
  },
  {
   "cell_type": "code",
   "execution_count": 45,
   "metadata": {},
   "outputs": [
    {
     "data": {
      "text/plain": [
       "__main__.Media"
      ]
     },
     "execution_count": 45,
     "metadata": {},
     "output_type": "execute_result"
    }
   ],
   "source": [
    "media1 = Media(a)\n",
    "type(media1)"
   ]
  },
  {
   "cell_type": "markdown",
   "metadata": {},
   "source": [
    "Y ahora apliquemos el método para obtener la media aritmética, **encadenando** el objeto de la clase `Media` con el método `media_arit()` utilizando el operador `.`; es decir, el `.` pasa lo que está a su izquierda a lo que está a la derecha:"
   ]
  },
  {
   "cell_type": "code",
   "execution_count": 46,
   "metadata": {},
   "outputs": [
    {
     "data": {
      "text/plain": [
       "3.0"
      ]
     },
     "execution_count": 46,
     "metadata": {},
     "output_type": "execute_result"
    }
   ],
   "source": [
    "media1.media_arit()"
   ]
  },
  {
   "cell_type": "markdown",
   "metadata": {},
   "source": [
    "Podemos ver también el atributo `data` de nuestro objeto, que es la lista original:"
   ]
  },
  {
   "cell_type": "code",
   "execution_count": 47,
   "metadata": {},
   "outputs": [
    {
     "data": {
      "text/plain": [
       "[1, 2, 3, 6]"
      ]
     },
     "execution_count": 47,
     "metadata": {},
     "output_type": "execute_result"
    }
   ],
   "source": [
    "media1.data"
   ]
  },
  {
   "cell_type": "markdown",
   "metadata": {},
   "source": [
    "¿Qué ventajas tiene esto? Pues facilita mucho el declarar diferentes métodos para un mismo tipo de objeto. Declaremos dentro de nuestra clase `Media` un objeto que se encargue de obtener la media goemétrica de nuestro conjunto de datos:"
   ]
  },
  {
   "cell_type": "code",
   "execution_count": 48,
   "metadata": {},
   "outputs": [],
   "source": [
    "class Media:\n",
    "    # Creamos un atributo que se llama data, el cual contiene la lista de números a partir de la cual calcularemos la media\n",
    "    def __init__(self, x):\n",
    "        self.data = x\n",
    "    # Declaramos un método asociado a la clase, en el cual calcularemos la media aritmética\n",
    "    def media_arit(self, redondear = False, dec = 0):\n",
    "        '''\n",
    "        Función básica para calcular la media aritmética.\n",
    "\n",
    "        Argumentos:\n",
    "            - self: Objeto de clase Media construido desde una lista o similar que contiene la serie de números a la que se le calculará la media aritmética.\n",
    "            - redondear: Booleano, indica si el valor de la media se redondeará o no.\n",
    "            - dec: Entero, indica el número de decimales a conservar en el redondeo. 0 por defecto.\n",
    "\n",
    "        Salida:\n",
    "            - La media aritmética del conjunto de datos, redondeada o no.\n",
    "        '''\n",
    "        # Calculamos la suma de los valores en la lista\n",
    "        suma = sum(self.data)\n",
    "        # Obtenemos el número de elementos en la lista\n",
    "        n = len(self.data)\n",
    "\n",
    "        # Calculamos la media\n",
    "\n",
    "        # Si queremos redondear\n",
    "        if redondear is True:\n",
    "            # Redondeamos a el número de decimales en dec\n",
    "            media = round(suma/n, dec)\n",
    "        else:\n",
    "            # De lo contrario entregamos el valor crudo\n",
    "            media = suma/n\n",
    "\n",
    "        # Regresamos el valor de la media\n",
    "        return(media)\n",
    "    \n",
    "     # Declaramos otro método asociado a la clase, en el cual calcularemos la media geométrica\n",
    "    def media_geom(self, redondear = False, dec = 0):\n",
    "        '''\n",
    "        Función básica para calcular la media geométrica.\n",
    "\n",
    "        Argumentos:\n",
    "            - self: Objeto de clase Media construido desde una lista o similar que contiene la serie de números a la que se le calculará la media aritmética.\n",
    "            - redondear: Booleano, indica si el valor de la media se redondeará o no.\n",
    "            - dec: Entero, indica el número de decimales a conservar en el redondeo. 0 por defecto.\n",
    "\n",
    "        Salida:\n",
    "            - La media aritmética del conjunto de datos, redondeada o no.\n",
    "        '''\n",
    "        import numpy as np\n",
    "        \n",
    "        # Calculamos el productorio de los elementos\n",
    "        prod = np.prod(self.data)\n",
    "        # Obtenemos el número de elementos en la lista\n",
    "        n = len(self.data)\n",
    "\n",
    "        # Calculamos la media\n",
    "\n",
    "        # Si queremos redondear\n",
    "        if redondear is True:\n",
    "            # Redondeamos a el número de decimales en dec\n",
    "            media = round(prod**(1/n), dec)\n",
    "        else:\n",
    "            # De lo contrario entregamos el valor crudo\n",
    "            media = prod**(1/n)\n",
    "\n",
    "        # Regresamos el valor de la media\n",
    "        return(media)"
   ]
  },
  {
   "cell_type": "markdown",
   "metadata": {},
   "source": [
    "Notarás dos cosas. La primera es que tuvimos que volver a declarar la clase completa. Esto es porque NO podemos añadir métodos de manera dinámica; es decir, después de que hayamos declarado la clase. La segunda es que dentro del método `media_geom()` importamos `numpy`. Esto es porque, como recordarás, `class` y `def` son ambientes aislados; es decir, se cargan en memoria de manera independiente al resto de módulos que hayas cargado.\n",
    "\n",
    "Ahora calculemos ambas medias a partir del mismo conjunto de datos:"
   ]
  },
  {
   "cell_type": "code",
   "execution_count": 49,
   "metadata": {},
   "outputs": [
    {
     "name": "stdout",
     "output_type": "stream",
     "text": [
      "Media aritmética = 7.5\n",
      "Media geométrica = 7.42\n"
     ]
    }
   ],
   "source": [
    "# Instanciar la clase\n",
    "media2 = Media(b)\n",
    "# Media aritmética\n",
    "print(f'Media aritmética = {media2.media_arit()}')\n",
    "# Media geométrica\n",
    "print(f'Media geométrica = {media2.media_geom(redondear = True, dec = 2)}')"
   ]
  },
  {
   "cell_type": "markdown",
   "metadata": {},
   "source": [
    "Si bien esto es algo que podrías no utilizar de manera cotidiana, es algo que te ayudará si llegas a necesitar leer la documentación de las funciones o, peor aún, el código fuente. Por supuesto que te será sumamente útil si es que en algún momento desarrollas un módulo propio, o quieres que tu código se vea elegante y poder reutilizarlo de manera eficiente. Si es el caso, siempre puedes copiar tus clases, métodos y funciones a un archivo de texto con extensión `.py` para poder cargarlo como si de un módulo se tratara."
   ]
  },
  {
   "cell_type": "markdown",
   "metadata": {},
   "source": [
    "## Ejercicio\n",
    "\n",
    "El ejercicio de esta sesión consiste en, evidentemente, construir funciones.\n",
    "\n",
    "1. Declara una función que reciba como entrada DOS LISTAS de igual longitud y regrese un DICCIONARIO.\n",
    "2. Aplica una comprensión de lista en la que a cada elemento de la lista `[1, 2, 3, 4]` le sumes su valor (o lo multipliques por 2).\n",
    "\n",
    "Opcionalmente:\n",
    "\n",
    "- Declara una clase con dos métodos de tu elección. Como ejemplo, un método que sume TODOS los elementos de la lista y otro que los reste.\n",
    "- Modifica los métodos de la clase `Media` de modo que se elimine el argumento `redondear` y que solo se quede el argumento `dec`. Este argumento deberá ser capaz de tomar dos tipos de valores: `None`, en el cual la media no se redondeará e `int` en el cuál se redondeará a ese número de decimales."
   ]
  },
  {
   "cell_type": "markdown",
   "metadata": {},
   "source": [
    "## Cierre\n",
    "\n",
    "Esto es todo para esta sesión. En la siguiente comenzaremos a trabajar con datos tabulares utilizando la librería `pandas`."
   ]
  },
  {
   "cell_type": "markdown",
   "metadata": {},
   "source": [
    "<div class = \"alert alert-block alert-info\">\n",
    "    <p>FIN DE LA SESIÓN</p></div>"
   ]
  }
 ],
 "metadata": {
  "kernelspec": {
   "display_name": "Python 3",
   "language": "python",
   "name": "python3"
  },
  "language_info": {
   "codemirror_mode": {
    "name": "ipython",
    "version": 3
   },
   "file_extension": ".py",
   "mimetype": "text/x-python",
   "name": "python",
   "nbconvert_exporter": "python",
   "pygments_lexer": "ipython3",
   "version": "3.8.6"
  }
 },
 "nbformat": 4,
 "nbformat_minor": 4
}
